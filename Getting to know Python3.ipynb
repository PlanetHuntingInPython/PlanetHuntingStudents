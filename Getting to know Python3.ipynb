{
 "cells": [
  {
   "cell_type": "markdown",
   "metadata": {},
   "source": [
    "# Welcome to Python\n",
    "\n",
    "The first thing you need to know is that Python is a programing and scripting language that is general purpose and widely popular. It will allow you to give your computer instructions in what is nearly simple english.\n",
    "\n",
    "\n",
    "## Jupyter Notebooks\n",
    "\n",
    "The environment we will be using to develop our python code in will be Google Collab, Google's implementation of Jupyter notebooks. This is a jupyter notebook. A jupyter notebook allows you to write and annotate your code using the the markdown language all in the same environment (to see what markdown looks like you can double click this or any other instructions cell and then, when you are done, _**shift+enter**_ to turn it back into the pretty marked up text) . You will be able to edit your notebooks either online in Google colab or on a local install of Jupyter notbooks/Anaconda on your own machine. To tell apart markdown cells from code cells, look for the ```In []:``` icon next to the cell\n",
    "\n",
    "In Jupyter each cell can be edited and run separately, but the **_state_** of the program will be determined byt the last cell run, more on this later. To run a cell in Jupyter you can either hit the play button next to it, or more simply by pressing the **shift** and **enter** keys on your keyboard.\n",
    "\n",
    "\n",
    "### Hello World!\n",
    "\n",
    "Let's tie this all together by running a couple simple arithmetic operations and the unavoidable \"hello world!\" program.\n",
    "\n",
    "In Python3 to print something we use the command:\n",
    "```Python\n",
    "print(<an expression>)\n",
    "```\n",
    "and a string (of characters)is defined by wrapping it in double quotes:\n",
    "```Python\n",
    "myString=\"This is a string\"\n",
    "```"
   ]
  },
  {
   "cell_type": "code",
   "execution_count": 5,
   "metadata": {},
   "outputs": [
    {
     "name": "stdout",
     "output_type": "stream",
     "text": [
      "hello world!\n"
     ]
    }
   ],
   "source": [
    "print(\"hello world!\")"
   ]
  },
  {
   "cell_type": "code",
   "execution_count": 6,
   "metadata": {},
   "outputs": [
    {
     "name": "stdout",
     "output_type": "stream",
     "text": [
      "2\n"
     ]
    }
   ],
   "source": [
    "print(1+1) "
   ]
  },
  {
   "cell_type": "code",
   "execution_count": 7,
   "metadata": {},
   "outputs": [
    {
     "name": "stdout",
     "output_type": "stream",
     "text": [
      "3.6666666666666665\n",
      "16\n"
     ]
    }
   ],
   "source": [
    "print(11/3) \n",
    "print(2**4) #2^4"
   ]
  },
  {
   "cell_type": "markdown",
   "metadata": {},
   "source": [
    "##### I am a markdown cell! \n",
    "##### Run me too to see what happens\n",
    "Here is some maths $e=mc^2$\n",
    "Here is some example python code to display\n",
    "```Python\n",
    "def example_do_nothing():\n",
    "    return void\n",
    "```\n",
    "[Here](https://en.wikipedia.org/) is a link"
   ]
  },
  {
   "cell_type": "markdown",
   "metadata": {},
   "source": [
    "### Variables and Data Types\n",
    "#### Variables\n",
    "Most of the time when writing a program we generate data that will be required later. In most modern programming languages, this necessity is handled through the use of *variables*. A variable stores a value (or values) until it is needed. It is simple to declare a variable and assign it a value in Python. Python is a \"duck typed\" language meaning that you do not have to worry much about what kind of data you are storing in your variables, rather Python itself takes care of all of that for you. A variable can have a value assigned to it using just the ```=``` operator and you are free to modify the contens of your variable at any time:\n",
    "```Python\n",
    "myNumber=5 #myNumber=5\n",
    "otherNumber=6\n",
    "myNumber=myNumber + otherNumber #myNumber=11\n",
    "```\n",
    "#### Lists\n",
    "Often data is more complicated than just a single number or character and storing each data element as a single variable becomes cumbersome, in these situations lists come to our rescue. In a python list you can store any number of things, as well as mixtures of things (again remember Python takes care of complicated issues with different kinds of data under the hood). To declare a list in python you use square braces:\n",
    "```Python\n",
    "myList=[1,3,\"plum\",myNumber]\n",
    "```\n",
    "To then access what has been stored in the list you use square braces yet again, though slightly differently:\n",
    "```Python\n",
    "myList[2]\n",
    "```\n",
    "Python is a *zero based language*, this means that it counts from 0. So if you are looking for the very first element fo a list, you want ``` myList[0]``` and if you want the last ```myList[-1]```, here the ```-1``` is a python shorthand for ```end-1```. The rest of the elements of the list can be found at all their respective list indices.\n",
    "\n",
    "### Exercises\n",
    "1. Make a list containing the numbers ```[3,2,6,4,0,1]```, call it myList.\n",
    "2. Create a variable to store the sum of the first and last element of myList. \n",
    "3. Print your list and your variable\n"
   ]
  },
  {
   "cell_type": "markdown",
   "metadata": {},
   "source": [
    "##### Write your code to E.1 in the cell below (and hit shift+enter to run it)"
   ]
  },
  {
   "cell_type": "code",
   "execution_count": null,
   "metadata": {},
   "outputs": [],
   "source": []
  },
  {
   "cell_type": "markdown",
   "metadata": {},
   "source": [
    "##### Exercise 2 code"
   ]
  },
  {
   "cell_type": "code",
   "execution_count": null,
   "metadata": {},
   "outputs": [],
   "source": []
  },
  {
   "cell_type": "markdown",
   "metadata": {},
   "source": [
    "##### Exercise 3 code"
   ]
  },
  {
   "cell_type": "code",
   "execution_count": null,
   "metadata": {},
   "outputs": [],
   "source": []
  },
  {
   "cell_type": "markdown",
   "metadata": {},
   "source": [
    "### Doing maths in Python\n",
    "Python is a flexible language, with a whole host of inbuilt mathematical opertors to make doing maths easier, I like splitting the operators into two groups, arithmetic and logical operators.\n",
    "\n",
    "#### Arithmetic operators\n",
    "These are the operators you comonly associate with maths, addition multiplication and more. The most common are:\n",
    "\n",
    "```+``` Returns the sum of two numbers ```a+b``` gives $a+b$\n",
    "\n",
    "```-``` Returns the difference of two numbers ```a-b``` gives $a-b$\n",
    "\n",
    "```*``` Returns the product of two numbers ```a*b``` gives $a\\cdot b$\n",
    "\n",
    "```/``` Returns the division of two numbers ```a/b``` gives $\\frac{a}{b}$\n",
    "\n",
    "```**``` Returns one number to the power of the other ```a**b``` gives $a^b$\n",
    "\n",
    "```%``` Returns the remainder of the division of the two numbers ```a%b``` gives $Remainder\\left(\\frac{a}{b}\\right)$\n",
    "\n",
    "#### Logical operators\n",
    "These are operators used in logic operations, like: is a bigger than b, is x smaller than y and is x bigger than y *or* smaller than a. This kind of operator returns what is called a boolean, a variable that is either ```True``` or ```False```. The common logic operators you should know in python are\n",
    "\n",
    "```==``` Equivalence, are two values equal? If yes this returns ```True``` otherwise it returns ```False```.\n",
    "\n",
    "```!=``` Unequivalence, this does the opposite of equivalence.\n",
    "\n",
    "```>```,```<``` Greater than and smaller than, this does what it says on the tin, is a greater than b and is a smaller than b.\n",
    "\n",
    "```or``` Allows you to join smaller logic expressions into bigger ones. ``` True or True``` gives ```True```,  ``` True or False``` gives ```True``` and ``` False or False``` gives ```False```.\n",
    "\n",
    "```and``` Similarly to ```or``` it can be used to join expressions, though the behaviour is different. ``` True and True``` gives ```True```,  ``` True and False``` gives ```False``` and ``` False and False``` gives ```False```."
   ]
  },
  {
   "cell_type": "markdown",
   "metadata": {},
   "source": [
    "### Conditional execution \n",
    "\n",
    "Not all code needs to be run always, by using if statements we can get our code to run expressions only when certain conditions are met. Take the example of deciding if a number is even, we want to print that our number is even only if it actually is even\n",
    "```Python\n",
    "number=5\n",
    "if number%2==0:\n",
    "    print(\"number is even!\")\n",
    "```\n",
    "Now, we may also want to run code in the event that our if statement is not run, this is done through the else statement\n",
    "```Python\n",
    "number=5\n",
    "if number%2==0:\n",
    "    print(\"number is even!\")\n",
    "else:\n",
    "    print(\"number is not even!\")\n",
    "```\n",
    "In some cases we may also want code to run if the first if does not execute but an other condition is also met, for this there is the elif statement (short for else if)\n",
    "```Python\n",
    "number=5.5\n",
    "if number%2==0:\n",
    "    print(\"number is even!\")\n",
    "elif number%2==1:\n",
    "    print(\"number is odd!\")\n",
    "else:\n",
    "    print(\"number has a decimal!\")\n",
    "```"
   ]
  },
  {
   "cell_type": "markdown",
   "metadata": {},
   "source": [
    "### Loops\n",
    "\n",
    "In many situations the need may arise to repeat the same operation many times over. This is most often achieved with a loop, in Python there are two types of loop, for loops and while loops.\n",
    "\n",
    "#### _for_ loops\n",
    "A for loop executes **for** a given number of iterations, in python this is acchieved by looping through the elements of a list or array, for example:\n",
    "```Python\n",
    "for i in ['a','b','c','d','e']:\n",
    "    #do more stuff\n",
    "    print(i)\n",
    "``` \n",
    "will print:\n",
    "```\n",
    "a\n",
    "b\n",
    "c\n",
    "d\n",
    "e\n",
    "```\n",
    "\n",
    "#### _while_ loops\n",
    "The second type of python loop is a while loop this loop executes **while** a looping condition is met. For example if we wanted to loop until a number increasing by 1 starting from 5 is smaller than 10:\n",
    "```Python\n",
    "i=5\n",
    "while i<10:\n",
    "    print(i)\n",
    "    i+=1\n",
    "```\n",
    "this will output\n",
    "```\n",
    "5\n",
    "6\n",
    "7\n",
    "8\n",
    "9\n",
    "```\n",
    "The main thing to be wary of with while loops is that your loop is able to eventually terminate... so make sure your looping condition can eventually be broken.\n",
    "\n",
    "#### Loops in loops in loops... AKA nesting\n",
    "You are free to put anything inside a loop, this may be an expression, a conditional block, or another loop. Being free to do something does not always mean it is a good idea; before turning your code into a nesting doll make sure that you have thought your problem through!\n",
    "\n",
    "### Exercises\n",
    "1. Using a while loop, print the even numbers between 10 and 20\n",
    "2. Correct the following, such that it terminates and only prints the odd numbers between 10 and 20\n",
    "```Python\n",
    "i=11\n",
    "while i!=20:\n",
    "        print(i)\n",
    "        i+=2\n",
    "```\n",
    "3. Using a for loop, print the squares of these numbers, ```[2,4,6,8,10]``` and the squares' remainders when divided by 7\n",
    "4. A number in the list ```[2,3,13,27,5,6,15,23,28]``` satisfies the expression $2x^2-0.8x^3+x+2235=0$, using a for loop and an if statement to find which one it is."
   ]
  },
  {
   "cell_type": "markdown",
   "metadata": {},
   "source": [
    "##### Exercise 1 code"
   ]
  },
  {
   "cell_type": "code",
   "execution_count": null,
   "metadata": {},
   "outputs": [],
   "source": []
  },
  {
   "cell_type": "markdown",
   "metadata": {},
   "source": [
    "##### Exercise 2 code"
   ]
  },
  {
   "cell_type": "code",
   "execution_count": null,
   "metadata": {},
   "outputs": [],
   "source": []
  },
  {
   "cell_type": "markdown",
   "metadata": {},
   "source": [
    "##### Exercise 3 code"
   ]
  },
  {
   "cell_type": "code",
   "execution_count": null,
   "metadata": {},
   "outputs": [],
   "source": []
  },
  {
   "cell_type": "markdown",
   "metadata": {},
   "source": [
    "##### Exercise 4 code"
   ]
  },
  {
   "cell_type": "code",
   "execution_count": null,
   "metadata": {},
   "outputs": [],
   "source": []
  },
  {
   "cell_type": "markdown",
   "metadata": {},
   "source": [
    "### Functions\n",
    "\n",
    "An important idea to keep in mind when writing code is making your code readable and hence easy to maintain and extend. A good first step in writing easy to read code is using functions. Functions take a set of arguments and produce a return, alowing for code that gets used often to get packaged away and only be written once. In python a function can be defined like so:\n",
    "```Python\n",
    "def my_function(firstArg, secondArg, thirdArg):\n",
    "    temporaryVariable=firstArg*secondArg+thirdArg\n",
    "    return temporaryVariable\n",
    "```\n",
    "To then use the function defined in your code you can call it\n",
    "```Python\n",
    "a=2\n",
    "b=4\n",
    "c=5\n",
    "d=my_function(a,b,c) \n",
    "```\n",
    "Whenever a function is called you should just use it like you would the value you expect the function to return, its a number? use it as a number, etc. \n",
    "\n",
    "### Exercises\n",
    "1. Write a function that takes two numbers and returns the square root of the sum of their squares, ie $f(x,y)=\\sqrt{x^2+y^2}$ call this function ```find_hypotenuse```, now test your code\n",
    "2. Using the function you wrote, clean up the code I wrote in the cell below\n",
    "3. **Optional Challenge:** using the function you already wrote and the section on conditional execution, write a function that tests if 3 numbers (a,b,c) form the sides of a right triangle (within a tollerance of $10^{-6}$). If they are, return ```True``` otherwise return ```False```. As a further challenge, make your function work regardless of the order the sides are given in the function arguments. "
   ]
  },
  {
   "cell_type": "markdown",
   "metadata": {},
   "source": [
    "##### Question 1 code"
   ]
  },
  {
   "cell_type": "code",
   "execution_count": null,
   "metadata": {
    "scrolled": true
   },
   "outputs": [],
   "source": []
  },
  {
   "cell_type": "markdown",
   "metadata": {},
   "source": [
    "##### Tidy this code up"
   ]
  },
  {
   "cell_type": "code",
   "execution_count": 8,
   "metadata": {},
   "outputs": [
    {
     "name": "stdout",
     "output_type": "stream",
     "text": [
      "4.0 3.0 5.0\n",
      "8.0 15.0 17.0\n"
     ]
    }
   ],
   "source": [
    "a=4.0\n",
    "b=3.0\n",
    "\n",
    "h_squared=a**2+b**2\n",
    "h=h_squared**0.5\n",
    "\n",
    "\n",
    "a2=8.0\n",
    "b2=15.0\n",
    "\n",
    "h2_squared=a2**2+b2**2\n",
    "h2=h2_squared**0.5\n",
    "\n",
    "print(a,b,h)\n",
    "print(a2,b2,h2)"
   ]
  },
  {
   "cell_type": "markdown",
   "metadata": {},
   "source": [
    "##### Question 3 code"
   ]
  },
  {
   "cell_type": "code",
   "execution_count": null,
   "metadata": {},
   "outputs": [],
   "source": []
  },
  {
   "cell_type": "markdown",
   "metadata": {},
   "source": [
    "## Packages\n",
    "\n",
    "Python by itself is great, but its greatest selling point is the huge package ecosystem surrounding the language. We will be taking advantage of NumPy and matplotlib packages. NumPy offers a wide range of improved implementations of mathematical operations as well as the numpy.array, a superior way to store data. Matplotlib will allow you to painlessly make beautiful plots. \n",
    "\n",
    "To import packages in python, all we have to do is use the ```import``` command\n",
    "```Python\n",
    "import numpy as np\n",
    "```\n",
    "now all numpy functions and methods will have been imported into the ```np``` _namespace_. All that this means is that all the numpy methods can now be accessed \n",
    "```Python\n",
    "b=np.power(3,5) #3^5\n",
    "```\n",
    "The reason we do this is to avoid overwriting other functions and variable names when we import a library. If for example we already defined a function ```power()```, like this importing numpy will not overwrite it.\n",
    "\n",
    "\n",
    "### NumPy\n",
    "\n",
    "The full numpy documentation can be found [here](https://numpy.org)\n",
    "\n",
    "#### numpy np.array\n",
    "numpy arrays are awesome. Numpy arrays are way faster than python lists while alowing you to much more intuitively do maths with them the only drawback being you need to make sure that the data you put into your array is of the same _type_, as in dont mix numbers and strings! There are several ways to create a numpy array:\n",
    "1. Making an array full of ones or zeros of a specified length\n",
    "```Python\n",
    "myArray0=np.zeros(100) #array of 100 zeros\n",
    "myArray1=np.ones(100) #array of 100 ones\n",
    "```\n",
    "2. Turning a python list into an array\n",
    "```Python\n",
    "myArray2=np.asarray([1,2,3,4,5])\n",
    "```\n",
    "3. By assigning it\n",
    "```Python\n",
    "myArray3=3*myArray2\n",
    "```\n",
    "4. By reading from file (more on this later)\n",
    "\n",
    "#### Reading from files\n",
    "numpy also gives you the ability to read data from a text file, this is done with the ```np.loadtxt()``` function. This function takes a filename as an argument and reads the content and returns a _tuple_ of arrays with an array for each column of data. \n",
    "```Python\n",
    "x,y = np.loadtxt('aDataFile.txt', unpack=True)\n",
    "``` \n",
    "where x and y are both np.arrays (if you want to know more about how this works you may want to read about [tuples](https://www.w3schools.com/python/python_tuples.asp) and [tuple unpacking](https://www.geeksforgeeks.org/unpacking-a-tuple-in-python/))\n",
    "\n",
    "#### Other useful numpy tidbits\n",
    "- Broadcasting: broadcasting means that pretty much any mathematical operation you do on an array will be done on the whole array, so for example you want the squares of a list of numbers you can do:\n",
    "```Python\n",
    "squares=np.asarray([1,2,3,4,5,6])**2\n",
    "```\n",
    "- Linspaces: the function ```np.linspace``` generates an array of linearly space data between two bounds like so:\n",
    "```Python\n",
    "linData=np.linspace(start,stop,numberOfElements)\n",
    "```\n",
    "- You can append data to numpy arrays, this is useful if you do not know how much data you will have, though beware you have to append data of the same type as what is already in the array. Also using ```array.append()``` will make your code run slower (if that is important to you. append is a member function of the np.array so it is called slightly differently than the functions we have seen so far:\n",
    "```Python\n",
    "myShortArray=np.asarray([1,2,4,8,16])\n",
    "#I want to add 32 to the array...\n",
    "myShortArray.append(32)\n",
    "```\n",
    "- For loops and np.arrays: can loop through the elements of an np.array the same that you would with a list:\n",
    "```Python\n",
    "arrayToLoopThrough=np.linspace(1,4,8)\n",
    "for i in arrayToLoopThrough:\n",
    "    print(i)\n",
    "```\n",
    "\n",
    "\n",
    "### Matplotlib\n",
    "\n",
    "Matplotlib is Python's defacto plotting library, it can produce beautiful publication quality plots and is probably the most used plotting software in astrophysics today. The full documentation can be found [here](https://matplotlib.org) to load the matplotlib module, run\n",
    "```Python\n",
    "import matplotlib.pyplot as plt\n",
    "```\n",
    "\n",
    "#### Plotting in matplotlib\n",
    "To plot in matplotlib we need to first create a _figure object_ with the function ```plt.figure()```. \n",
    "```Python\n",
    "plt.figure()\n",
    "``` \n",
    "This creates a canvas for you to plot on. You then generate your plot by running \n",
    "```Python\n",
    "plt.plot(x,y)\n",
    "plt.xlabel(\"x\") # x axis label\n",
    "plt.ylabel(\"y\") # y axis label\n",
    "```\n",
    "and to show your plot on the canvas,\n",
    "```Python \n",
    "plt.show()\n",
    "```\n",
    "\n",
    "#### Plot attributes\n",
    "you can modify how your plots look by modifying their attributes here is a quick cheatsheet:\n",
    "- ```plt.plot(x,y, \"r.\")``` plots a scatter with small red markers change makers by changing the \".\" to \"o\",\"\\*\" and more. to change the colour change the letter\n",
    "- ```plt.tight_layout()``` for when your axis labels are clipping out of the canvas.\n",
    "- calling ```plt.plot()``` again without creating a new canvas will add the plot to the existing canvas, so use this to make plots with multiple data series.\n",
    "\n",
    "### Exercises\n",
    "\n",
    "1. Manipulating and plotting arrays\n",
    "    * Create an array of 100 evenly spaced points in the interval $\\left[0,\\pi\\right]$ called ```X```\n",
    "    * Create another array called ```Y``` such that $Y=X\\cdot\\sin\\left(X\\right)$\n",
    "    * Plot ```Y``` against ```X``` and ```Y**2``` against ```X``` on the _same_ canvas\n",
    "\n",
    "\n",
    "2. In the ```./supplementary_files/``` directory there is a file called ```scater_data.dat``` \n",
    "    * The file can be read at ```\"./suplementary_files/scater_data.dat\"``` it has 2 columns, read the columns into arrays called x and y. \n",
    "    * plot x against y\n",
    "    * add x and y axis labels!\n",
    "    * now plot it as a scatter, can you spot a trend?\n",
    "3. Some files may have headders, by adding ```skiprows=number_of_rows_to_skip``` to the arguments of ```np.loadtxt```, try repeating exercise 2 on ```\"./supplementary_files/scater_data_with_head.dat\"```. This file has a single row of headder, open it and check it out.\n"
   ]
  },
  {
   "cell_type": "markdown",
   "metadata": {},
   "source": [
    "##### Exercise 1 code"
   ]
  },
  {
   "cell_type": "code",
   "execution_count": null,
   "metadata": {},
   "outputs": [],
   "source": []
  },
  {
   "cell_type": "markdown",
   "metadata": {},
   "source": [
    "##### Exercise 2 code"
   ]
  },
  {
   "cell_type": "code",
   "execution_count": null,
   "metadata": {},
   "outputs": [],
   "source": []
  },
  {
   "cell_type": "markdown",
   "metadata": {},
   "source": [
    "##### Exercise 3 code"
   ]
  },
  {
   "cell_type": "code",
   "execution_count": null,
   "metadata": {},
   "outputs": [],
   "source": []
  }
 ],
 "metadata": {
  "kernelspec": {
   "display_name": "Python 3",
   "language": "python",
   "name": "python3"
  },
  "language_info": {
   "codemirror_mode": {
    "name": "ipython",
    "version": 3
   },
   "file_extension": ".py",
   "mimetype": "text/x-python",
   "name": "python",
   "nbconvert_exporter": "python",
   "pygments_lexer": "ipython3",
   "version": "3.7.6"
  }
 },
 "nbformat": 4,
 "nbformat_minor": 4
}
