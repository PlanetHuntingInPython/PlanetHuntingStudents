{
 "cells": [
  {
   "cell_type": "markdown",
   "metadata": {},
   "source": [
    "## Obtaining physical information about planets from transit data\n",
    "### Note: If the text in this notebook does not display properly then double click on the cell and press _shift+enter_ to re-execute the cell.\n",
    "\n",
    "From Figure 1 we can see that a reasonable model for a planetary transit is to assume that an opaque circular disc of radius $R_{\\rm p}$ moves across a uniformly luminous circular disc of radius $R_{*}$, blocking some fraction of the light detected by an observer. Here, $R_{\\rm p}$ and $R_{*}$ are the radii of the planet and star, respectively.\n",
    "<img src=\"./ReadmeFigures/f1.png\" alt=\"Drawing\" style=\"width: 400px;\"/>\n",
    "\n",
    "### Planetary radius\n",
    "__Exercise__\n",
    "Using the simple model for a planetary transit described above, and shown in Figure 1, obtain an expression for the change in the observed luminosity of a star of radius $R_{*}$ when a planet of radius $R_{\\rm p}$ transits in front of it. In particular, obtain an expression for $\\Delta L/L_{*}$ in terms of $R_{*}$ and $R_{\\rm p}$, where $\\Delta L=L_{*} - L_{\\rm T}$ and $L_{*}$ denotes the stellar luminosity when the planet is not transiting, and $L_{\\rm T}$ denotes the observed luminosity when the planet is at the mid-transit point.  \n",
    "\n",
    "_Hint. Think about what fraction of the emitted light from the star is blocked out by the opaque disc (i.e. the planet) passing in front of it. The surface area of the star is $\\pi R_*^2$ and the area of the planet is $\\pi R_p^2$. The luminosity or brightness of a uniformly emitting disc (i.e. the star) can be written as the flux of radiation being emitted from the surface multiplied by the surface area of the disc. The flux is defined to be the amount of radiation emitted by the disc per unit area per unit time._\n",
    "\n",
    "### Orbital period\n",
    "Obtaining the planet’s orbital period from a transit light curve is easy when there is a single planet transiting a star. It is simply the time that elapses between successive dips in the light curve.\n",
    "When you start to work with the Kepler data, you will notice that the times listed in the light curve data files, and on the website that hosts the data archive, are in strange units – “Barycentric Julian Day minus a constant offset” (abbreviated to either BJD or [BJD – 2454833]). For complicated historical reasons, astronomers measure time from noon on the 1st January 4714 BC. This day is known as Julian Day zero, and all subsequent days are known as Julian Day 1, 2, 3, 4, 5, ... The number 2,454,833 mentioned above corresponds to noon on 1st January 2009 and is subtracted from the Julian date in order to make the numbers more manageable. Hence the times listed in Kepler light curves are the number of days since noon on 1st January 2009.\n",
    "\n",
    "### Orbital semi-major axis\n",
    "If we assume that the transiting planets are in circular orbit around their stars, then we can obtain an expression for the semi-major axis of the orbit (the distance between the star and planet during its orbit) in terms of the mass of the star (which can be obtained from the Kepler data archive) and the orbital period (which can be obtained from the transit light curve).\n",
    "This is given as an exercise below with step by step hints.\n",
    "\n",
    "__Exercise__\n",
    "When a planet is in circular orbit around a star, we can say there is a force balance between gravity and the centrifugal force. Hence, we start by equating the gravitational force acting between the star and planet to the centrifugal force associated with the circular orbital motion of the planet\n",
    "$$\n",
    "\\frac{G M_* M_p}{a^2}=\\frac{M_p v^2}{a}\n",
    "$$\n",
    "where v denotes the velocity of the circular orbit and $a$ is the semi-major axis. $M_*$ is the mass of the star and $M_p$ is the mass of the planet, and $G$ is Newton’s gravitational constant. _Manipulate this equation so that the semi-major axis, $a$, is expressed in terms of everything else._ \n",
    "\n",
    "The velocity, $v$, at which the planet moves around its circular orbit is given by the distance around the circle (or its circumference), $C$, divided by the time taken, $P$, where in our case $P$ is the orbital period. (Remember: Velocity is distance travelled divided by the time taken). _Obtain an expression for $v$ in terms of the semi-major axis, $a$, and the orbital period $P$._\n",
    "\n",
    "_Now combine your expressions for the semi-major axis, $a$, and the velocity, $v$, to get an expression for $a$ in terms of $M_*$, $P$, $G$ and $\\pi$._\n",
    "\n",
    "To work out the values of the semi-major axis, $a$, for each exoplanet you will study in this project, you will need the mass of the star, $M_*$. We have provided this in a pdf file (```Stellar_Mass_Radius.pdf```) for each of the systems you will analyse. This file also contains the radius of the star. Please note that the values of $M_*$ and $R_*$ are expressed in units of the Solar mass and Solar radius, where these are $M_{\\rm Sun} = 1.989 \\times 10^{30} \\, {\\rm kg}$ and $R_{\\rm Sun} = 7 \\times 10^8 \\, {\\rm m}$. Note that $G=6.67 \\times 10^{-11} \\, {\\rm m}^3 \\,  {\\rm kg}^{-1} {\\rm s}^{-2}$ in these units, and the semi-major axis you will obtain will be in metres. You may want to convert this into Astronomical Units (the mean distance between the Earth and Sun), where $1 \\, {\\rm AU} = 1.5 \\times 10^{11}\\, {\\rm m}$.\n",
    "\n",
    "### Determining the transit impact parameter\n",
    "Figure 2 below shows that the transit impact parameter, denoted by $b$, is a measure of how close the planet passes to the centre of the stellar disc at the midpoint of the transit. $b$ is measured in units of the stellar radius, $R_*$. (You should imagine the observer is looking at the transiting planet and star from the left side of the diagram, and is in the plane of the page.) Note that we refer to the angle $i$ as the inclination of the orbit, such that an angle $i=90^o$ corresponds to a planet that passes across the centre of the stellar disc. Figure 2 shows that the impact parameter, $b$, the semi-major axis, $a$, and the inclination of the orbit, $i$, are related by simple trigonometry.\n",
    "<img src=\"./ReadmeFigures/f3.png\" alt=\"Drawing\" style=\"width: 400px;\"/>\n",
    "**Exercise** Using Figure 2, obtain a relation between $b$, $R_*$, $a$ and $i$ using trigonometry. Note that $a$ is the hypotenuse of a right angled triangle\n",
    "\n",
    "Figure 3 shows a face on view of the path that the planet takes across the stellar disc during a transit, and demonstrates the trigonometric relation described above. The length of the chord that corresponds to the path taken by the planet across the stellar disc can be determined from Pythagoras’ theorem.\n",
    "<img src=\"./ReadmeFigures/f4.png\" alt=\"Drawing\" style=\"width: 400px;\"/>\n",
    "\n",
    "The equation for the length of the chord is\n",
    "$$\n",
    "2l=2\\sqrt{\\left(R_*+R_p\\right)^2-\\left(bR_*\\right)^2}\n",
    "$$\n",
    "The diagram below gives a 3-dimensional view of the geometry of the orbit of a transiting planet.\n",
    "<img src=\"./ReadmeFigures/f5.png\" alt=\"Drawing\" style=\"width: 500px;\"/>\n",
    "\n",
    "From the triangle drawn in the orbital plane, we can see that $\\sin\\left(\\frac{\\alpha}{2}\\right)=\\frac{l}{a}$. *Note\n",
    "that the diagram exaggerates how close the orbit is to the star.* Assuming that the planet is on a circular orbit, the duration of the transit (i.e. the total time taken for the planet to pass across the stellar disc as shown in Figure 3) is given by the expression\n",
    "$$\n",
    "T_{\\rm dur}=P\\frac{\\alpha}{2\\pi}.\n",
    "$$\n",
    "When combining this with the equations above, we obtain the expression\n",
    "$$\n",
    "T_{\\rm dur}=\\frac{P}{\\pi}\\arcsin\\left(\\frac{\\sqrt{\\left(R_* + R_p \\right)^2 - \\left(bR_* \\right)^2}}{a}\\right)\n",
    "$$\n",
    "From this you can rearrange for 𝑏𝑅∗ and determine the transit impact parameter based on measuring the duration of the transit, $T_{\\rm dur}$, from the light curve.\n",
    "\n",
    "**Exercise**\n",
    "Obtain an expression for $bR_*$ from the above equation for $T_{\\rm dur}$. Once you have an expression for $bR_*$ you can use the expression you obtained in the previous exercise (just below Figure 2) to calculate the orbital inclination angle $i$.\n"
   ]
  },
  {
   "cell_type": "code",
   "execution_count": null,
   "metadata": {},
   "outputs": [],
   "source": []
  }
 ],
 "metadata": {
  "kernelspec": {
   "display_name": "Python 3",
   "language": "python",
   "name": "python3"
  },
  "language_info": {
   "codemirror_mode": {
    "name": "ipython",
    "version": 3
   },
   "file_extension": ".py",
   "mimetype": "text/x-python",
   "name": "python",
   "nbconvert_exporter": "python",
   "pygments_lexer": "ipython3",
   "version": "3.8.2"
  }
 },
 "nbformat": 4,
 "nbformat_minor": 4
}
