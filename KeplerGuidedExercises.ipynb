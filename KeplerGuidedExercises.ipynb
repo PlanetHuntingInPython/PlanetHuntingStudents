{
 "cells": [
  {
   "cell_type": "markdown",
   "metadata": {
    "collapsed": false
   },
   "source": [
    "# Kepler Guided Exercise\n",
    "\n",
    "### Step 1 \n",
    "\n",
    "Before attempting this exercise, we recommend that you first work through the notebooks **GettingToKnowPython**, **KeplerDataIntro**, and **ObtainingPlanetParameters**. In the code cell below, enter python code that reads in the data for the system KIC006922244, and plot the flux received from the star versus time. \n"
   ]
  },
  {
   "cell_type": "code",
   "execution_count": 0,
   "metadata": {
    "collapsed": false
   },
   "outputs": [
   ],
   "source": [
   ]
  },
  {
   "cell_type": "markdown",
   "metadata": {
    "collapsed": false
   },
   "source": [
    "### Step 2\n",
    "\n",
    "Use the zoom function on the plot and obtain as accurately as possible an estimate of the orbital period of the planet. Also estimate as accurately as you can the time of the midpoint of the very first transit in the data and make a note of it. Using your estimate of the orbital period \\(hint: the period $P=3.522X$ days where $X$ is a digit in the range $0 \\le X \\le 9$\\), and the time of the first transit \\(let's call this $t_0$\\), phase\\-fold the data so that it is symmetric about $t=0$. Plot the phase\\-folded light curve. Enter your python commands in the code cell below.\n"
   ]
  },
  {
   "cell_type": "code",
   "execution_count": 0,
   "metadata": {
    "collapsed": false
   },
   "outputs": [
   ],
   "source": [
   ]
  },
  {
   "cell_type": "markdown",
   "metadata": {
    "collapsed": false
   },
   "source": [
    "### Step 3\n",
    "\n",
    "Estimate the depth of the transit (this is the maximum distance below the zero-line that the average flux falls to). Using the fact that the star in KIC006922244 has a radius $R_*=1.451 \\, R_{\\odot}$, where the solar radius $R_{\\odot}=7 \\times 10^8 \\, {\\rm m}$, estimate the size of the planet in metres. Look up the value of Jupiter's radius and calculate the size of the planet in KIC006922244 compared to Jupiter. Use the code cells below to perform your calculations. You may want to create a function that takes the transit depth and stellar radius as arguments and returns the planet's radius."
   ]
  },
  {
   "cell_type": "code",
   "execution_count": 0,
   "metadata": {
    "collapsed": false
   },
   "outputs": [
   ],
   "source": [
   ]
  },
  {
   "cell_type": "markdown",
   "metadata": {
    "collapsed": false
   },
   "source": [
    "### Step 4\n",
    "\n",
    "The mass of the star in KIC006922244 is $M_* = 1.132 \\, M_{\\odot}$, where the solar mass $M_{\\odot} = 1.989 \\times 10^{30} \\, {\\rm kg}$. Using the code cell below, write a function that returns the semi-major axis of a planet (in units of Astronomical Units [AU]) given values of the orbital period and the mass of the central star (these should be given as arguments to the function). Take care with your units (convert everything to metres, kilograms and seconds etc), and assume Newton's gravitational constant to be $G=6.67 \\times 10^{-11} \\, {\\rm N} \\, {\\rm kg}^{-2} \\, {\\rm m}^2$. Use your function to calculate the semi-major axis of the planet orbit in the KIC006922244 system.\n"
   ]
  },
  {
   "cell_type": "code",
   "execution_count": 0,
   "metadata": {
    "collapsed": false
   },
   "outputs": [
   ],
   "source": [
   ]
  },
  {
   "cell_type": "markdown",
   "metadata": {
    "collapsed": false
   },
   "source": [
    "### Step 5\n",
    "\n",
    "Now use the function ```batman``` to generate a model for the phase folded light curve. This requires you to input certain parameters, such as the planet radius, semimajor axis and orbital inclination. You have already made estimates of some of these values. Use them in ```batman``` and see how good a fit the model is to the data. Try to improve the quality of the fit by varying the parameters of the model."
   ]
  },
  {
   "cell_type": "code",
   "execution_count": 0,
   "metadata": {
    "collapsed": false
   },
   "outputs": [
   ],
   "source": [
   ]
  },
  {
   "cell_type": "markdown",
   "metadata": {
    "collapsed": false
   },
   "source": [
    "### Step 6\n",
    "\n",
    "The planet in KIC006922244 is also known as Kepler-8 b. Using NASA's [exoplanet archive](https://exoplanetarchive.ipac.caltech.edu/index.html), see if you can find the system. How do your parameters for the planet compare with the ones listed on the archive? You should expect your estimates of the planet radius, orbital period and semi-major axis to be quite accurate if the model you have generated provides a good fit to the data. \n",
    "\n",
    "Now analyse the lightcurves of the other planets we have given you and see if you can obtain parameters for those. How do your results compare with those on the exoplanet archive? Note that the stellar masses and radii (using solar units) for the data we have given you are listed in the file **Stellar_Mass_Radius.pdf** which you may find in the Data directory.\n",
    "\n",
    "As demonstrated in the **KeplerDataIntro** notebook, we can use the ```batman``` Python package to compute models for phase folded light curves. Use this to fit the light curves for all the systems you have analysed and see if you can get estimates for the parameters that fit with those listed on NASA's exoplanet archive.\n",
    "\n",
    "\n",
    "\n",
    "\n"
   ]
  },
  {
   "cell_type": "code",
   "execution_count": 0,
   "metadata": {
    "collapsed": false
   },
   "outputs": [
   ],
   "source": [
   ]
  }
 ],
 "metadata": {
  "kernelspec": {
   "display_name": "Python 3 (Ubuntu Linux)",
   "env": {
   },
   "language": "python",
   "name": "python3-ubuntu",
   "resource_dir": "/usr/local/share/jupyter/kernels/python3-ubuntu"
  },
  "language_info": {
   "codemirror_mode": {
    "name": "ipython",
    "version": 3
   },
   "file_extension": ".py",
   "mimetype": "text/x-python",
   "name": "python",
   "nbconvert_exporter": "python",
   "pygments_lexer": "ipython3",
   "version": "3.8.2"
  }
 },
 "nbformat": 4,
 "nbformat_minor": 4
}