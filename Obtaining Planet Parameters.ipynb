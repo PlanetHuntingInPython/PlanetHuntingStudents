{
 "cells": [
  {
   "cell_type": "markdown",
   "metadata": {},
   "source": [
    "## Obtaining physical information from transit data\n",
    "From Fig. 1 we can see that a reasonable model for a planetary transit is to assume that an opaque circular disc of radius Rp moves across a uniformly luminous circular disc of radius Rs, blocking some fraction of the light detected by an observer. Here, Rp and Rs are the radii of the planet and star, respectively.\n",
    "\n",
    "### Planetary radius\n",
    "__Exerxise__\n",
    "Using the simple model described above, and shown in Fig. 1, for a planetary transit, obtain an expression for the change in the observed luminosity of a star of radius $R_s$ when a planet of radius $R_p$ transits in front of it. In particular, obtain an expression for $\\Delta L/L_s$ in terms of Rs and Rp, where $\\Delta L=L_s - L_T$ and Ls denotes the stellar luminosity when the planet is not transiting, and LT denotes the observed luminosity when the planet is at the mid-transit point.\n",
    "_Hint. Think about what fraction of the emitted light from the star is blocked out by the opaque disc (i.e. the planet) passing in front of it. The surface area of the star is $\\pi R_s^2$ and the area of the planet is $\\pi R_p^2$. The luminosity or brightness of a uniformly emitting disc (i.e. the star) can be written as the flux of radiation being emitted from the surface multiplied by the surface area of the disc. The flux is defined to be the amount of radiation emitted by the disc per unit area per unit time._\n",
    "\n",
    "### Orbital period\n",
    "Obtaining the planet’s orbital period from a transit light curve is easy when there is a single planet transiting a star. It is simply the time that elapses between successive dips in the light curve.\n",
    "When you start to work with the Kepler data, you will notice that the times listed in the light curve data files, and on the website that hosts the data archive, are in strange units – “Barycentric Julian Day minus a constant offset” (abbreviated to either BJD or [BJD – 2454833]). For complicated historical reasons, astronomers measure time from noon on the 1st January 4714 BC. This day is known as Julian Day zero, and all subsequent days are known as Julian Day 1, 2, 3, 4, 5, ... The number 2,454,833 mentioned above corresponds to noon on 1st January 2009 and is subtracted from the Julian date in order to make the numbers more manageable. Hence the times listed in Kepler light curves are the number of days since noon on 1st January 2009.\n",
    "\n",
    "### Orbital semi-major axis\n",
    "If we assume that the transiting planets are in circular orbit around their stars, then we can obtain an expression for the semi-major axis of the orbit (the distance between the star and planet during its orbit) in terms of the mass of the star (which can be obtained from the Kepler data archive) and the orbital period (which can be obtained from the transit light curve).\n",
    "This is given as an exercise below with step by step hints.\n",
    "__Exercise__\n",
    "When a planet is in circular orbit around a star, we can say there is a force balance between gravity and the centrifugal force. Hence, we start by equating the gravitational force acting between the star and planet to the centrifugal force associated with the circular orbital motion of the planet\n",
    "$$\n",
    "\\frac{G M_p M_s}{a^2}=\\frac{M_p v^2}{a}\n",
    "$$\n",
    "where v denotes the velocity of the circular orbit and $a$ is the semi-major axis. Ms is the mass of the star and $M_p$ is the mass of the planet, and $G$ is Newton’s gravitational constant. _Manipulate this equation so that the semi-major axis, $a$, is expressed in terms of everything else._ \n",
    "\n",
    "The velocity, $v$, at which the planet moves around its circular orbit is given by the distance around the circle (or its circumference), $C$, divided by the time taken, $P$, where in our case $P$ is the orbital period. (Remember: Velocity is distance travelled divided by the time taken). _Obtain an expression for $v$ in terms of the semi-major axis, $a$, and the orbital period $P$. _\n",
    "\n",
    "Now combine your expressions for the semi-major axis, $a$, and the velocity, $v$, to get an expression for $a$ in terms of $M_s$, $P$, $G$ and $\\pi$._\n",
    "\n",
    "To work out the values of the semi-major axis, $a$, for each exoplanet you will study in this project, you will need the mass of the star, $M_s$. We have provided this in a pdf file (```Stellar_Mass_Radius.pdf```) for each of the systems you will analyse. This file also contains the radius of the star. Please note that the values of $M_s$ and $R_s$ are expressed in units of the Solar mass and Solar radius, where these are $M_{Sun} = 1.989 x 10^{30} kg$ and $R_{Sun} = 7 x 10^8 m$. Note that $G=6.67 x 10^{-11} m^3 kg^{-1} s^{-2}$ in these units, and the semi-major axis you will obtain will be in metres. You may want to convert this into Astronomical Units (the mean distance between the Earth and Sun), where $1 AU = 1.5 x 10*^{11} m$.\n",
    "\n",
    "### Determining the transit impact parameter\n",
    "Figure 3 shows that the transit impact parameter, denoted by $b$, is a measure of how close to the centre of the stellar disc the planet passes at the midpoint of the transit. $b$ is measured in units of the stellar radius, $R_*$. Note that we refer to the angle i as the inclination of the orbit, such that an angle $i=90^o$ corresponds to a planet that passes across the centre of the stellar disc. Figure 3 shows that the impact parameter, $b$, the semi-major axis, $a$, and the inclination of the orbit, $i$, are related by simple trigonometry.\n",
    "![Alt](./ReadmeFigures/f3.png)\n",
    "\n",
    "Figure 4 shows a face on view of the path that the planet takes across the stellar disc during a transit, and demonstrates the trigonometric relation described above. The length of the chord that corresponds to the path taken by the planet across the stellar disc can be determined from Pythagoras’ theorem.\n",
    "![Alt](./ReadmeFigures/f4.png)\n",
    "\n",
    "The equation for the length of the chord is\n",
    "$$\n",
    "2l=2\\sqrt{\\left(R_*+R_p\\right)^2-\\left(bR_*\\right)^2}\n",
    "$$\n",
    "The diagram below gives a 3-dimensional view of the geometry of the orbit of a transiting planet.\n",
    "![Alt](./ReadmeFigures/f5.png)\n",
    "\n",
    "From the triangle drawn in the orbital plane, we can see that $\\sin\\left(\\frac{a}{2}\\right)=\\frac{l}{a}$ *note\n",
    "that the diagram exaggerates how close the orbit is to the star. In almost all cases, the distance between the centre of the star and the midpoint between $A$ and $B$ is well approximated by the semi-major axis $a$* Assuming that the planet is on a circular orbit, the duration of the transit is given by the expression\n",
    "$$\n",
    "T_{dur}=P\\frac{a}{2\\pi}\n",
    "$$\n",
    "When combining this with the equations above, we obtain the expression\n",
    "$$\n",
    "T_{dur}=\\frac{P}{\\pi}\\arcsin\\left(\\frac{\\sqrt{\\left(R_* + R_p \\right)^2 - \\left(bR_* \\right)^2}}{a}\\right)\n",
    "$$\n",
    "From this you can rearrange for 𝑏𝑅∗ and determine the transit impact parameter based on measuring the duration of the transit, Tdur, from the light curve.\n",
    "\n",
    "**Exercise**\n",
    "Obtain an expression for $bR_*$ from the above equation for $T_{dur}$. Using Figure 4, obtain an expression for the orbital inclination angle $i$.\n"
   ]
  },
  {
   "cell_type": "code",
   "execution_count": null,
   "metadata": {},
   "outputs": [],
   "source": []
  }
 ],
 "metadata": {
  "kernelspec": {
   "display_name": "Python 3",
   "language": "python",
   "name": "python3"
  },
  "language_info": {
   "codemirror_mode": {
    "name": "ipython",
    "version": 3
   },
   "file_extension": ".py",
   "mimetype": "text/x-python",
   "name": "python",
   "nbconvert_exporter": "python",
   "pygments_lexer": "ipython3",
   "version": "3.7.6"
  }
 },
 "nbformat": 4,
 "nbformat_minor": 4
}
