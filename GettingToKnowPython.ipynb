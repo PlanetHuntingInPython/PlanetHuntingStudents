{
 "cells": [
  {
   "cell_type": "markdown",
   "metadata": {
    "collapsed": false
   },
   "source": [
    "# Welcome to Python\n",
    "\n",
    "The first thing you need to know is that Python is a programing and scripting language that is general purpose and widely popular. It will allow you to give your computer instructions using commands that are close to being in simple English.\n",
    "\n",
    "## Jupyter Notebooks\n",
    "\n",
    "The environment we will be using to develop our python code in will be CoCalc, which is an implementation of Jupyter notebooks. We will be hosting this for you, meaning that your code will be running on computers in Queen Mary, and sending you your output over the internet. \n",
    "\n",
    "**_This is a jupyter notebook_**. A jupyter notebook allows you to write code in the python programming language, and to annotate it using the the markdown language, all in the same environment (to see what markdown looks like you can double click on this or any other instruction cell and then, when you are done, _**shift+enter**_ to turn it back into the pretty marked up text you are reading now) . You will be able to edit your notebooks either online in CoCalc or, if you prefer, using a local installation of Jupyter notbooks/Anaconda on your own machine. To tell apart markdown cells from code cells, look for the ```In []:``` icon next to the cell.\n",
    "\n",
    "In Jupyter each cell can be edited and run separately, but the **_state_** of the program will be determined by the last cell that was run. More on this later. \n",
    "\n",
    "To run a cell in Jupyter after you have entered Python code you can either click on the play button at the top of the screen, or more simply by pressing the **shift** and **enter** keys on your keyboard.\n",
    "\n",
    "### Hello World!\n",
    "\n",
    "Let's tie all this together by running a couple of simple arithmetic operations and the ever-present \"hello world!\" program.\n",
    "\n",
    "In Python3 to print something we use the command:\n",
    "\n",
    "```Python\n",
    "print(<an expression>)\n",
    "```\n",
    "\n",
    "and a string (of characters) is defined by wrapping it in double quotes:\n",
    "\n",
    "```Python\n",
    "myString=\"This is a string\"\n",
    "```\n",
    "\n",
    "or in single quotes:\n",
    "\n",
    "```Python\n",
    "AnotherString='This is another string'\n",
    "```\n",
    "\n"
   ]
  },
  {
   "cell_type": "code",
   "execution_count": 7,
   "metadata": {
    "collapsed": false
   },
   "outputs": [
    {
     "name": "stdout",
     "output_type": "stream",
     "text": [
      "hello world!\n"
     ]
    }
   ],
   "source": [
    "print(\"hello world!\") # using double quotes"
   ]
  },
  {
   "cell_type": "code",
   "execution_count": 8,
   "metadata": {
    "collapsed": false
   },
   "outputs": [
    {
     "name": "stdout",
     "output_type": "stream",
     "text": [
      "hello world!\n"
     ]
    }
   ],
   "source": [
    "print('hello world!') # using single quotes"
   ]
  },
  {
   "cell_type": "markdown",
   "metadata": {
    "collapsed": false
   },
   "source": [
    "You will notice that in the above examples we included a comment after the # symbol.\n",
    "\n",
    "In Python, all text that comes after a # symbol should be treated as a comment. Comments are used to describe what a piece of code does.\n",
    "\n",
    "Now for some simple examples where we print the results of some arithmetic operations. Feel free to edit the commands below to try your own expressions."
   ]
  },
  {
   "cell_type": "code",
   "execution_count": 9,
   "metadata": {
    "collapsed": false
   },
   "outputs": [
    {
     "name": "stdout",
     "output_type": "stream",
     "text": [
      "2\n"
     ]
    }
   ],
   "source": [
    "print(1+1) "
   ]
  },
  {
   "cell_type": "code",
   "execution_count": 10,
   "metadata": {
    "collapsed": false
   },
   "outputs": [
    {
     "name": "stdout",
     "output_type": "stream",
     "text": [
      "3.6666666666666665\n",
      "16\n"
     ]
    }
   ],
   "source": [
    "print(11/3) \n",
    "print(2**4) # This is two to the power of 4."
   ]
  },
  {
   "cell_type": "markdown",
   "metadata": {
    "collapsed": false
   },
   "source": [
    "### This is an example of a markdown cell\n",
    "##### I am a markdown cell - double click on me to see how the markdown language works!  \n",
    "(Remember it's **_shift+enter_** to execute a markdown cell and get back to the normal display).\n",
    "##### Here you can insert simple text.\n",
    "##### Or typeset mathematical expressions.\n",
    "Here is some maths $E=mc^2$\n",
    "##### Or display some Python code\n",
    "Here is some example python code to display\n",
    "```Python\n",
    "def example_do_nothing():\n",
    "    return void\n",
    "```\n",
    "##### Or even embed a hyperlink.\n",
    "[Here](https://en.wikipedia.org/) is a link - click to open it. \n"
   ]
  },
  {
   "cell_type": "markdown",
   "metadata": {
    "collapsed": false
   },
   "source": [
    "### Variables and Data Types\n",
    "#### Variables\n",
    "Most of the time when writing a program we generate data that will be required later. In most modern programming languages, this necessity is handled through the use of *variables*. A variable stores a value (or set of values) until it is needed. \n",
    "\n",
    "It is simple to declare a variable and assign a value to it in Python. Python is a \"duck typed\" language, meaning that you do not have to worry much about what kind of data you are storing in your variables. Python itself takes care of all of that for you. \n",
    "\n",
    "A variable can have a value assigned to it using the ```=``` operator and you are free to modify the contents of your variable at any time:\n",
    "```Python\n",
    "myNumber=5 #myNumber=5\n",
    "otherNumber=6\n",
    "myNumber=myNumber + otherNumber #myNumber=11\n",
    "print(myNumber)\n",
    "```\n",
    "Enter this Python code in the code cell below and execute it yourself (remember to hit _shift+enter_)."
   ]
  },
  {
   "cell_type": "code",
   "execution_count": 0,
   "metadata": {
    "collapsed": false
   },
   "outputs": [
   ],
   "source": [
   ]
  },
  {
   "cell_type": "markdown",
   "metadata": {
    "collapsed": false
   },
   "source": [
    "#### Lists\n",
    "\n",
    "Often data is more complicated than just a single number or character, and storing each data element as a single variable becomes cumbersome. In these situations lists come to our rescue. In a python list you can store any number of things, as well as mixtures of things (again remember Python itself takes care of complicated issues with different kinds of data). To declare a list in python you use square braces:\n",
    "\n",
    "```Python\n",
    "myList=[1,3,\"plum\",myNumber]\n",
    "```\n",
    "\n",
    "To then access what has been stored in the list you use square braces yet again, though slightly differently:\n",
    "\n",
    "```Python\n",
    "myList[2]\n",
    "```\n",
    "\n",
    "Python is a *zero based language*, this means that it counts from 0. So if you are looking for the very first element of a list, you want ``` myList[0]``` and if you want the last ```myList[-1]```, here the ```-1``` is a python shorthand for ```end-1```. The rest of the elements of the list can be found using their respective indices.\n",
    "\n",
    "### Exercises\n",
    "\n",
    "1. Make a list called myList containing the numbers ```[3,2,6,4,0,1]```.\n",
    "2. Create a variable to store the sum of the first and last element of myList. \n",
    "3. Print your list and your variable\n",
    "\n",
    "##### Write your code to Exercise 1 in the cell below (and hit shift+enter to run it)\n",
    "\n"
   ]
  },
  {
   "cell_type": "code",
   "execution_count": 0,
   "metadata": {
    "collapsed": false
   },
   "outputs": [
   ],
   "source": [
   ]
  },
  {
   "cell_type": "markdown",
   "metadata": {
    "collapsed": false
   },
   "source": [
    "##### Exercise 2 code"
   ]
  },
  {
   "cell_type": "code",
   "execution_count": 0,
   "metadata": {
    "collapsed": false
   },
   "outputs": [
   ],
   "source": [
   ]
  },
  {
   "cell_type": "markdown",
   "metadata": {
    "collapsed": false
   },
   "source": [
    "##### Exercise 3 code"
   ]
  },
  {
   "cell_type": "code",
   "execution_count": 0,
   "metadata": {
    "collapsed": false
   },
   "outputs": [
   ],
   "source": [
   ]
  },
  {
   "cell_type": "markdown",
   "metadata": {
    "collapsed": false
   },
   "source": [
    "### Doing maths in Python\n",
    "Python is a flexible language, with a whole host of inbuilt mathematical operators to make doing maths easy. Let's split the operators into two groups, arithmetic and logical operators.\n",
    "\n",
    "#### Arithmetic operators\n",
    "These are the operators you comonly associate with maths: addition, multiplication, division, etc. The most common are:\n",
    "\n",
    "```+``` Returns the sum of two numbers: ```a+b``` gives $a+b$\n",
    "\n",
    "```-``` Returns the difference of two numbers: ```a-b``` gives $a-b$\n",
    "\n",
    "```*``` Returns the product of two numbers: ```a*b``` gives $a\\cdot b$\n",
    "\n",
    "```/``` Returns the division of two numbers: ```a/b``` gives $\\frac{a}{b}$\n",
    "\n",
    "```**``` Returns one number to the power of the other: ```a**b``` gives $a^b$\n",
    "\n",
    "```%``` Returns the remainder of the division of the two numbers: ```a%b``` gives $Remainder\\left(\\frac{a}{b}\\right)$\n",
    "\n",
    "```abs()``` Returns the absolute value of a number\n",
    "\n",
    "Use the code cells below to experiment writing different arithmetic expressions.\n",
    "\n",
    "Start by assigning values to variables ```a``` and ```b``` and then assign the answer from your expression to the variable ```c```.\n",
    "\n",
    "For example:\n",
    "```Python\n",
    "a=4\n",
    "b=5\n",
    "c=a+b\n",
    "print(c)\n",
    "```"
   ]
  },
  {
   "cell_type": "code",
   "execution_count": 0,
   "metadata": {
    "collapsed": false
   },
   "outputs": [
   ],
   "source": [
   ]
  },
  {
   "cell_type": "code",
   "execution_count": 0,
   "metadata": {
    "collapsed": false
   },
   "outputs": [
   ],
   "source": [
   ]
  },
  {
   "cell_type": "markdown",
   "metadata": {
    "collapsed": false
   },
   "source": [
    "#### Logical operators\n",
    "These are operators used in logic operations, like: \n",
    "\n",
    "Is $a$ bigger than $b$; \n",
    "\n",
    "Is $x$ smaller than $y$; \n",
    "\n",
    "Is $x$ bigger than $y$ *or* smaller than $a$.   \n",
    "\n",
    "This kind of operator returns what is called a boolean, a variable that is either ```True``` or ```False```. Booleans are often used when implementing __Conditional execution__ as described below.\n",
    "\n",
    "The common logic operators you should know in python are\n",
    "\n",
    "```==``` Equivalence, are two values equal? If yes this returns ```True``` otherwise it returns ```False```.\n",
    "\n",
    "```!=``` Unequivalence, this does the opposite of equivalence. i.e. It returns ```True``` if two values are not equivalent.\n",
    "\n",
    "```>```,```<``` Greater than and smaller than, this does what it says on the tin: is $a$ greater than $b$ and is $a$ smaller than $b$.\n",
    "\n",
    "```or``` Allows you to join smaller logic expressions into bigger ones. ``` True or True``` gives ```True```,  ``` True or False``` gives ```True``` and ``` False or False``` gives ```False```.\n",
    "\n",
    "```and``` Similarly to ```or``` it can be used to join expressions, though the behaviour is different. ``` True and True``` gives ```True```,  ``` True and False``` gives ```False``` and ``` False and False``` gives ```False```."
   ]
  },
  {
   "cell_type": "markdown",
   "metadata": {
    "collapsed": false
   },
   "source": [
    "### Conditional execution \n",
    "\n",
    "Sometimes when we write a programme we want particular blocks of code to execute only if a certain condition is met. We use **if** statements to achieve this. Take the example below where we decide if a number is even, and if it is we print \"number is even!\", otherwise the programme does nothing. \n",
    "```Python\n",
    "number=5\n",
    "if number%2==0:\n",
    "    print(\"number is even!\")\n",
    "```\n",
    "Now, we may also want to run code in the event that our if statement is not run, this is done through the **else** statement\n",
    "```Python\n",
    "number=5\n",
    "if number%2==0:\n",
    "    print(\"number is even!\")\n",
    "else:\n",
    "    print(\"number is not even!\")\n",
    "```\n",
    "In some cases we may also want code to run if the first \"if\" does not execute but another condition is met instead, for this there is the \"**elif**\" statement (short for else if)\n",
    "```Python\n",
    "number=5.5\n",
    "if number%2==0:\n",
    "    print(\"number is even!\")\n",
    "elif number%2==1:\n",
    "    print(\"number is odd!\")\n",
    "else:\n",
    "    print(\"number has a decimal!\")\n",
    "```\n",
    "Use the code cells below to experiment with writing your own python code that involves conditional execution."
   ]
  },
  {
   "cell_type": "code",
   "execution_count": 0,
   "metadata": {
    "collapsed": false
   },
   "outputs": [
   ],
   "source": [
   ]
  },
  {
   "cell_type": "code",
   "execution_count": 0,
   "metadata": {
    "collapsed": false
   },
   "outputs": [
   ],
   "source": [
   ]
  },
  {
   "cell_type": "markdown",
   "metadata": {
    "collapsed": false
   },
   "source": [
    "### Loops\n",
    "\n",
    "In many situations the need arises to repeat the same operation many times over. This is most often achieved with a loop. \n",
    "\n",
    "In Python there are two types of loop, **for** loops and **while** loops.\n",
    "\n",
    "#### _for_ loops\n",
    "\n",
    "A **for** loop executes _for_ a given number of iterations. In python this is achieved by looping through the elements of a list or array, for example:\n",
    "\n",
    "```Python\n",
    "for i in ['a','b','c','d','e']:\n",
    "    #do more stuff\n",
    "    print(i)\n",
    "```\n",
    "\n",
    "The above code will print:\n",
    "\n",
    "```\n",
    "a\n",
    "b\n",
    "c\n",
    "d\n",
    "e\n",
    "```\n",
    "\n",
    "#### _while_ loops\n",
    "\n",
    "The second type of python loop is a **while** loop. This loop executes _while_ a looping condition is met. For example, the code below loops only while a number starting at 5 and increasing by 1 is smaller than 10:\n",
    "\n",
    "```Python\n",
    "i=5\n",
    "while i<10:\n",
    "    print(i)\n",
    "    i+=1\n",
    "```\n",
    "\n",
    "The above code will output:\n",
    "\n",
    "```\n",
    "5\n",
    "6\n",
    "7\n",
    "8\n",
    "9\n",
    "```\n",
    "\n",
    "The main thing to be wary of with while loops is that your loop must be able to eventually terminate... so make sure your looping condition can eventually be broken. Otherwise your code will keep looping for ever!\n",
    "\n",
    "#### Loops in loops in loops... AKA nesting\n",
    "\n",
    "You are free to put anything inside a loop, this may be an expression, a conditional block, or another loop. Being free to do something does not always mean it is a good idea; before writing code that puts a loop within a loop make sure that you have thought your problem through!\n",
    "\n",
    "### Exercises\n",
    "\n",
    "1. Using a **while** loop, print the even numbers between 10 and 20\n",
    "2. Correct the following code, such that it terminates and only prints the odd numbers between 10 and 20\n",
    "\n",
    "```Python\n",
    "i=11\n",
    "while i!=20:\n",
    "        print(i)\n",
    "        i+=2\n",
    "```\n",
    "\n",
    "3. Using a **for** loop, print the squares of these numbers, ```[2,4,6,8,10]``` and the remainders when dividing the squares by 7\n",
    "4. A number in the list ```[2,3,13,27,5,6,15,23,28]``` satisfies the expression $2x^2-0.8x^3+x+2235=0$. Use a for loop and and if statement to find which one it is.\n",
    "\n"
   ]
  },
  {
   "cell_type": "markdown",
   "metadata": {
    "collapsed": false
   },
   "source": [
    "##### Exercise 1 code"
   ]
  },
  {
   "cell_type": "code",
   "execution_count": 0,
   "metadata": {
    "collapsed": false
   },
   "outputs": [
   ],
   "source": [
   ]
  },
  {
   "cell_type": "markdown",
   "metadata": {
    "collapsed": false
   },
   "source": [
    "##### Exercise 2 code"
   ]
  },
  {
   "cell_type": "code",
   "execution_count": 0,
   "metadata": {
    "collapsed": false
   },
   "outputs": [
   ],
   "source": [
   ]
  },
  {
   "cell_type": "markdown",
   "metadata": {
    "collapsed": false
   },
   "source": [
    "##### Exercise 3 code"
   ]
  },
  {
   "cell_type": "code",
   "execution_count": 0,
   "metadata": {
    "collapsed": false
   },
   "outputs": [
   ],
   "source": [
   ]
  },
  {
   "cell_type": "markdown",
   "metadata": {
    "collapsed": false
   },
   "source": [
    "##### Exercise 4 code"
   ]
  },
  {
   "cell_type": "code",
   "execution_count": 0,
   "metadata": {
    "collapsed": false
   },
   "outputs": [
   ],
   "source": [
   ]
  },
  {
   "cell_type": "markdown",
   "metadata": {
    "collapsed": false
   },
   "source": [
    "### Functions\n",
    "\n",
    "An important idea to keep in mind when writing code is making your code readable and hence easy to maintain and extend. \n",
    "\n",
    "A good first step in writing easy to read code is using functions. \n",
    "\n",
    "Functions take a set of arguments and produce a return, allowing for code that is used often to be packaged up and only be written once. \n",
    "\n",
    "In python a function can be defined as follows:\n",
    "```Python\n",
    "def my_function(firstArg, secondArg, thirdArg):\n",
    "    temporaryVariable=firstArg*secondArg+thirdArg\n",
    "    return temporaryVariable\n",
    "```\n",
    "To then use the function defined in your code you can call it\n",
    "```Python\n",
    "a=2\n",
    "b=4\n",
    "c=5\n",
    "d=my_function(a,b,c) \n",
    "```\n",
    "Whenever a function is called you should just use it like you would the value you expect the function to return. If its a number use it as a number, etc. \n",
    "\n",
    "### Exercises\n",
    "1. Write a function that takes two numbers and returns the square root of the sum of their squares, ie $f(x,y)=\\sqrt{x^2+y^2}$. Call this function ```find_hypotenuse```. Test your code\n",
    "2. Using the function you wrote, clean up the code I wrote in the cell below\n",
    "3. **Optional Challenge:** using the function you already wrote and the section on conditional execution, write a function that tests if 3 numbers (a,b,c) form the sides of a right triangle (within a tolerance of $10^{-6}$). If they are, return ```True``` otherwise return ```False```. As a further challenge, make your function work regardless of the order the sides are given in the function arguments (hint: remember the hypothenuse is the largest side of a right handed triangle). "
   ]
  },
  {
   "cell_type": "markdown",
   "metadata": {
    "collapsed": false
   },
   "source": [
    "##### Exercise 1 code"
   ]
  },
  {
   "cell_type": "code",
   "execution_count": 0,
   "metadata": {
    "collapsed": false,
    "scrolled": true
   },
   "outputs": [
   ],
   "source": [
   ]
  },
  {
   "cell_type": "markdown",
   "metadata": {
    "collapsed": false
   },
   "source": [
    "##### Tidy this code up"
   ]
  },
  {
   "cell_type": "code",
   "execution_count": 11,
   "metadata": {
    "collapsed": false
   },
   "outputs": [
    {
     "name": "stdout",
     "output_type": "stream",
     "text": [
      "4.0 3.0 5.0\n",
      "8.0 15.0 17.0\n"
     ]
    }
   ],
   "source": [
    "a=4.0\n",
    "b=3.0\n",
    "\n",
    "h_squared=a**2+b**2\n",
    "h=h_squared**0.5\n",
    "\n",
    "\n",
    "a2=8.0\n",
    "b2=15.0\n",
    "\n",
    "h2_squared=a2**2+b2**2\n",
    "h2=h2_squared**0.5\n",
    "\n",
    "print(a,b,h)\n",
    "print(a2,b2,h2)"
   ]
  },
  {
   "cell_type": "markdown",
   "metadata": {
    "collapsed": false
   },
   "source": [
    "##### Exercise 3 code"
   ]
  },
  {
   "cell_type": "code",
   "execution_count": 0,
   "metadata": {
    "collapsed": false
   },
   "outputs": [
   ],
   "source": [
   ]
  },
  {
   "cell_type": "markdown",
   "metadata": {
    "collapsed": false
   },
   "source": [
    "## Packages\n",
    "\n",
    "Basic python by itself is great, but python's strongest selling point is the huge set of packages that come with the language. \n",
    "\n",
    "We will be taking advantage of the NumPy, matplotlib and plotly packages. \n",
    "\n",
    "NumPy offers a wide range of mathematical functions and operations, as well as the numpy.array, which is a superior way to store data compared to using lists. \n",
    "\n",
    "Matplotlib will allow you to painlessly make beautiful plots. \n",
    "\n",
    "Plotly allows you to make interactive plots that will be very useful when we come to look at the Kepler data in the notebook **KeplerDataIntro**\n",
    "\n",
    "To import packages in python, all we have to do is use the `import`command\n",
    "\n",
    "```Python\n",
    "import numpy as np\n",
    "```\n",
    "\n",
    "Now all numpy functions and methods will have been imported into the ```np``` _namespace_. All that this means is that all the numpy methods can now be accessed similarly to the following examples:\n",
    "\n",
    "```Python\n",
    "b=np.power(3,5) #3^5\n",
    "x=np.pi/4.\n",
    "y=np.sin(x)\n",
    "```\n",
    "\n",
    "The reason we do this is to avoid overwriting other functions and variable names when we import a library. If for example we already defined a function ```power()```, importing numpy as described above will not overwrite it.\n",
    "\n",
    "### NumPy\n",
    "\n",
    "The full numpy documentation can be found [here](https://numpy.org)\n",
    "\n",
    "#### numpy np.array\n",
    "\n",
    "numpy arrays are awesome. Numpy arrays are way faster than python lists, while allowing you to do maths with them in a much more intuitive way. The only drawback is that you need to make sure that the data you put into your array is of the same _type_. i.e. Don't mix numbers and strings! \n",
    "\n",
    "There are several ways to create a numpy array:\n",
    "\n",
    "1. Making an array full of ones or zeros of a specified length\n",
    "\n",
    "```Python\n",
    "myArray0=np.zeros(100) #array of 100 zeros\n",
    "myArray1=np.ones(100) #array of 100 ones\n",
    "```\n",
    "\n",
    "2. Turning a python list into an array\n",
    "\n",
    "```Python\n",
    "myArray2=np.asarray([1,2,3,4,5])\n",
    "```\n",
    "\n",
    "3. By assigning it\n",
    "\n",
    "```Python\n",
    "myArray3=3*myArray2\n",
    "```\n",
    "\n",
    "4. By reading from a file (more on this later)\n",
    "\n",
    "#### Reading from files\n",
    "\n",
    "numpy gives you the ability to read data from a text file. This is done with the `np.loadtxt()` function. This function takes a filename as an argument and reads the content and returns a set of arrays, with one array for each column of data. The following example illustrates how this works:\n",
    "\n",
    "```Python\n",
    "x,y = np.loadtxt('aDataFile.txt', unpack=True)\n",
    "```\n",
    "\n",
    "where x and y are both np.arrays (if you want to know more about how this works you may want to read about [tuples](https://www.w3schools.com/python/python_tuples.asp) and [tuple unpacking](https://www.geeksforgeeks.org/unpacking-a-tuple-in-python/))\n",
    "\n",
    "#### Other useful numpy-related commands\n",
    "\n",
    "- Broadcasting: broadcasting means that pretty much any mathematical operation you do on an array will be done on the whole array. For example, if you want the squares of a list of numbers you can do:\n",
    "\n",
    "```Python\n",
    "squares=np.asarray([1,2,3,4,5,6])**2\n",
    "```\n",
    "\n",
    "or equivalently\n",
    "\n",
    "```Python\n",
    "numbers=np.asarray([1,2,3,4,5,6])\n",
    "squares=numbers**2\n",
    "```\n",
    "\n",
    "- Linspaces: the function ```np.linspace``` generates an array of linearly spaced data between two bounds as follows:\n",
    "\n",
    "```Python\n",
    "linData=np.linspace(start,stop,numberOfElements)\n",
    "```\n",
    "\n",
    "For example, to generate an array of ten numbers running between 0 and $\\pi$ and display them on the screeen:\n",
    "\n",
    "```Python\n",
    "PiData=np.linspace(0.,np.pi,10) # Note that the value of Pi can be accessed using the function np.pi\n",
    "print(PiData)\n",
    "```\n",
    "\n",
    "[0.         0.34906585 0.6981317  1.04719755 1.3962634  1.74532925\n",
    " 2.0943951  2.44346095 2.7925268  3.14159265]\n",
    "\n",
    "- You can append data to numpy arrays, this is useful if you do not know how much data you will have, though beware you have to append data of the same type as what is already in the array. Also using ```array.append()``` will make your code run slower (if that is important to you. append is a member function of the np.array so it is called slightly differently than the functions we have seen so far):\n",
    "\n",
    "```Python\n",
    "myShortArray=np.asarray([1,2,4,8,16])\n",
    "#I want to add 32 to the array...\n",
    "myShortArray.append(32)\n",
    "```\n",
    "\n",
    "- For loops and np.arrays: you can loop through the elements of an np.array the same that you would with a list:\n",
    "\n",
    "```Python\n",
    "arrayToLoopThrough=np.linspace(1,4,8)\n",
    "for i in arrayToLoopThrough:\n",
    "    print(i)\n",
    "```\n",
    "\n",
    "Use the code cells below to experiment with numpy arrays and functions. Use some of the examples above, and then create your own code.\n",
    "\n"
   ]
  },
  {
   "cell_type": "code",
   "execution_count": 0,
   "metadata": {
    "collapsed": false
   },
   "outputs": [
   ],
   "source": [
   ]
  },
  {
   "cell_type": "code",
   "execution_count": 0,
   "metadata": {
    "collapsed": false
   },
   "outputs": [
   ],
   "source": [
   ]
  },
  {
   "cell_type": "markdown",
   "metadata": {
    "collapsed": false
   },
   "source": [
    "### Matplotlib\n",
    "\n",
    "Matplotlib is Python's defacto plotting library. It can produce beautiful publication quality plots and is probably the most used plotting software in astrophysics today. The full documentation can be found [here](https://matplotlib.org). To load the matplotlib module, run\n",
    "\n",
    "```Python\n",
    "import matplotlib.pyplot as plt\n",
    "```\n",
    "\n",
    "#### Plotting in matplotlib\n",
    "\n",
    "To plot in matplotlib we need to first create a _figure object_ with the function ```plt.figure()```. \n",
    "\n",
    "```Python\n",
    "plt.figure()\n",
    "```\n",
    "\n",
    "This creates a canvas for you to plot on. You then generate your plot by running \n",
    "\n",
    "```Python\n",
    "plt.plot(x,y)\n",
    "plt.xlabel(\"x\") # x axis label\n",
    "plt.ylabel(\"y\") # y axis label\n",
    "```\n",
    "\n",
    "#### Plot attributes\n",
    "\n",
    "You can modify how your plots look by modifying their attribute. Here is a quick cheatsheet:\n",
    "\n",
    "- ```plt.plot(x,y, \"r.\")``` creates a scatter plot with small red markers. Change makers by changing the \".\" to \"o\",\"\\*\" and more. To change the colour change the letter (for example changing \"r.\" to \"b.\" will produce small blue markers.\n",
    "- ```plt.tight_layout()``` for when your axis labels are clipping out of the canvas.\n",
    "- calling ```plt.plot()``` again without creating a new canvas will add the plot to the existing canvas, so use this to make plots with multiple data series.\n",
    "\n",
    "### Exercises\n",
    "\n",
    "1. Manipulating and plotting arrays\n",
    "    * Create an array of 100 evenly spaced points in the interval $\\left[0,\\pi\\right]$ called ```X```\n",
    "    * Create another array called ```Y``` such that $Y=X\\cdot\\sin\\left(X\\right)$\n",
    "    * Plot ```Y``` against ```X``` and ```Y**2``` against ```X``` on the _same_ canvas\n",
    "\n",
    "\n",
    "2. In the ```./supplementary_files/``` directory there is a file called ```scatter_data.dat``` \n",
    "    * The file can be read at ```\"./supplementary_files/scatter_data.dat\"``` it has 2 columns, read the columns into arrays called x and y. \n",
    "    * plot x against y\n",
    "    * add x and y axis labels!\n",
    "    * now plot it as a scatter, can you spot a trend?\n",
    "3. Some files may have headers, by adding ```skiprows=number_of_rows_to_skip``` to the arguments of ```np.loadtxt```, try repeating exercise 2 on ```\"./supplementary_files/scatter_data_with_head.dat\"```. This file has a single row of header, open it and check it out.\n",
    "\n"
   ]
  },
  {
   "cell_type": "markdown",
   "metadata": {
    "collapsed": false
   },
   "source": [
    "##### Exercise 1 code"
   ]
  },
  {
   "cell_type": "code",
   "execution_count": 0,
   "metadata": {
    "collapsed": false
   },
   "outputs": [
   ],
   "source": [
   ]
  },
  {
   "cell_type": "markdown",
   "metadata": {
    "collapsed": false
   },
   "source": [
    "##### Exercise 2 code"
   ]
  },
  {
   "cell_type": "code",
   "execution_count": 0,
   "metadata": {
    "collapsed": false
   },
   "outputs": [
   ],
   "source": [
   ]
  },
  {
   "cell_type": "markdown",
   "metadata": {
    "collapsed": false
   },
   "source": [
    "##### Exercise 3 code"
   ]
  },
  {
   "cell_type": "code",
   "execution_count": 0,
   "metadata": {
    "collapsed": false
   },
   "outputs": [
   ],
   "source": [
   ]
  }
 ],
 "metadata": {
  "kernelspec": {
   "display_name": "Python 3 (Ubuntu Linux)",
   "env": {
   },
   "language": "python",
   "name": "python3-ubuntu",
   "resource_dir": "/usr/local/share/jupyter/kernels/python3-ubuntu"
  },
  "language_info": {
   "codemirror_mode": {
    "name": "ipython",
    "version": 3
   },
   "file_extension": ".py",
   "mimetype": "text/x-python",
   "name": "python",
   "nbconvert_exporter": "python",
   "pygments_lexer": "ipython3",
   "version": "3.8.2"
  }
 },
 "nbformat": 4,
 "nbformat_minor": 4
}